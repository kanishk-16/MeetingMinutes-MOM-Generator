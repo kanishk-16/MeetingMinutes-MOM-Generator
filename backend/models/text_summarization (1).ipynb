{
  "cells": [
    {
      "cell_type": "code",
      "execution_count": 1,
      "metadata": {
        "colab": {
          "base_uri": "https://localhost:8080/"
        },
        "id": "tNkKIzjOPGuF",
        "outputId": "fe21eb09-10b9-445c-ae29-9295f80f8b3f"
      },
      "outputs": [
        {
          "name": "stdout",
          "output_type": "stream",
          "text": [
            "Collecting spacy\n",
            "  Obtaining dependency information for spacy from https://files.pythonhosted.org/packages/d6/9e/8afc618cfed4b5dc602b11754d4d9193a268439704defae301bffca7f04c/spacy-3.6.1-cp311-cp311-win_amd64.whl.metadata\n",
            "  Downloading spacy-3.6.1-cp311-cp311-win_amd64.whl.metadata (26 kB)\n",
            "Collecting spacy-legacy<3.1.0,>=3.0.11 (from spacy)\n",
            "  Using cached spacy_legacy-3.0.12-py2.py3-none-any.whl (29 kB)\n",
            "Collecting spacy-loggers<2.0.0,>=1.0.0 (from spacy)\n",
            "  Using cached spacy_loggers-1.0.4-py3-none-any.whl (11 kB)\n",
            "Collecting murmurhash<1.1.0,>=0.28.0 (from spacy)\n",
            "  Downloading murmurhash-1.0.9-cp311-cp311-win_amd64.whl (18 kB)\n",
            "Collecting cymem<2.1.0,>=2.0.2 (from spacy)\n",
            "  Downloading cymem-2.0.7-cp311-cp311-win_amd64.whl (28 kB)\n",
            "Collecting preshed<3.1.0,>=3.0.2 (from spacy)\n",
            "  Downloading preshed-3.0.8-cp311-cp311-win_amd64.whl (91 kB)\n",
            "     ---------------------------------------- 0.0/91.9 kB ? eta -:--:--\n",
            "     ---------------------------------------- 91.9/91.9 kB 5.1 MB/s eta 0:00:00\n",
            "Collecting thinc<8.2.0,>=8.1.8 (from spacy)\n",
            "  Obtaining dependency information for thinc<8.2.0,>=8.1.8 from https://files.pythonhosted.org/packages/ea/65/9fe6fe1ddb5fd34b7b81dada121e6862791e624384a2964331d0228aea38/thinc-8.1.12-cp311-cp311-win_amd64.whl.metadata\n",
            "  Downloading thinc-8.1.12-cp311-cp311-win_amd64.whl.metadata (15 kB)\n",
            "Collecting wasabi<1.2.0,>=0.9.1 (from spacy)\n",
            "  Obtaining dependency information for wasabi<1.2.0,>=0.9.1 from https://files.pythonhosted.org/packages/8f/69/26cbf0bad11703241cb84d5324d868097f7a8faf2f1888354dac8883f3fc/wasabi-1.1.2-py3-none-any.whl.metadata\n",
            "  Downloading wasabi-1.1.2-py3-none-any.whl.metadata (28 kB)\n",
            "Collecting srsly<3.0.0,>=2.4.3 (from spacy)\n",
            "  Obtaining dependency information for srsly<3.0.0,>=2.4.3 from https://files.pythonhosted.org/packages/c6/05/d8cf64f4595080ef4b011359a98be212c29450c804cd3bde637ba007a0d6/srsly-2.4.7-cp311-cp311-win_amd64.whl.metadata\n",
            "  Downloading srsly-2.4.7-cp311-cp311-win_amd64.whl.metadata (20 kB)\n",
            "Collecting catalogue<2.1.0,>=2.0.6 (from spacy)\n",
            "  Obtaining dependency information for catalogue<2.1.0,>=2.0.6 from https://files.pythonhosted.org/packages/45/8f/5b73efc14e0373d9bb0de6ce1ab04a8f77420dc473f1f3ef270caf085cff/catalogue-2.0.9-py3-none-any.whl.metadata\n",
            "  Downloading catalogue-2.0.9-py3-none-any.whl.metadata (14 kB)\n",
            "Collecting typer<0.10.0,>=0.3.0 (from spacy)\n",
            "  Downloading typer-0.9.0-py3-none-any.whl (45 kB)\n",
            "     ---------------------------------------- 0.0/45.9 kB ? eta -:--:--\n",
            "     ---------------------------------------- 45.9/45.9 kB ? eta 0:00:00\n",
            "Collecting pathy>=0.10.0 (from spacy)\n",
            "  Obtaining dependency information for pathy>=0.10.0 from https://files.pythonhosted.org/packages/b5/c3/04a002ace658133f5ac48d30258ed9ceab720595dc1ac36df02fe52018af/pathy-0.10.2-py3-none-any.whl.metadata\n",
            "  Downloading pathy-0.10.2-py3-none-any.whl.metadata (16 kB)\n",
            "Collecting smart-open<7.0.0,>=5.2.1 (from spacy)\n",
            "  Using cached smart_open-6.3.0-py3-none-any.whl (56 kB)\n",
            "Requirement already satisfied: tqdm<5.0.0,>=4.38.0 in c:\\users\\hp\\mom_generator\\personaltesting\\.venv\\lib\\site-packages (from spacy) (4.66.1)\n",
            "Requirement already satisfied: numpy>=1.15.0 in c:\\users\\hp\\mom_generator\\personaltesting\\.venv\\lib\\site-packages (from spacy) (1.25.2)\n",
            "Requirement already satisfied: requests<3.0.0,>=2.13.0 in c:\\users\\hp\\mom_generator\\personaltesting\\.venv\\lib\\site-packages (from spacy) (2.31.0)\n",
            "Collecting pydantic!=1.8,!=1.8.1,<3.0.0,>=1.7.4 (from spacy)\n",
            "  Obtaining dependency information for pydantic!=1.8,!=1.8.1,<3.0.0,>=1.7.4 from https://files.pythonhosted.org/packages/fd/35/86b1e7571e695587df0ddf2937100436dce0caa277d2f016d4e4f7d3791a/pydantic-2.2.1-py3-none-any.whl.metadata\n",
            "  Downloading pydantic-2.2.1-py3-none-any.whl.metadata (145 kB)\n",
            "     ---------------------------------------- 0.0/145.6 kB ? eta -:--:--\n",
            "     -------------------------------------- 145.6/145.6 kB 4.4 MB/s eta 0:00:00\n",
            "Collecting jinja2 (from spacy)\n",
            "  Downloading Jinja2-3.1.2-py3-none-any.whl (133 kB)\n",
            "     ---------------------------------------- 0.0/133.1 kB ? eta -:--:--\n",
            "     -------------------------------------- 133.1/133.1 kB 7.7 MB/s eta 0:00:00\n",
            "Requirement already satisfied: setuptools in c:\\users\\hp\\mom_generator\\personaltesting\\.venv\\lib\\site-packages (from spacy) (65.5.0)\n",
            "Requirement already satisfied: packaging>=20.0 in c:\\users\\hp\\mom_generator\\personaltesting\\.venv\\lib\\site-packages (from spacy) (23.1)\n",
            "Collecting langcodes<4.0.0,>=3.2.0 (from spacy)\n",
            "  Using cached langcodes-3.3.0-py3-none-any.whl (181 kB)\n",
            "Collecting annotated-types>=0.4.0 (from pydantic!=1.8,!=1.8.1,<3.0.0,>=1.7.4->spacy)\n",
            "  Obtaining dependency information for annotated-types>=0.4.0 from https://files.pythonhosted.org/packages/d8/f0/a2ee543a96cc624c35a9086f39b1ed2aa403c6d355dfe47a11ee5c64a164/annotated_types-0.5.0-py3-none-any.whl.metadata\n",
            "  Downloading annotated_types-0.5.0-py3-none-any.whl.metadata (11 kB)\n",
            "Collecting pydantic-core==2.6.1 (from pydantic!=1.8,!=1.8.1,<3.0.0,>=1.7.4->spacy)\n",
            "  Obtaining dependency information for pydantic-core==2.6.1 from https://files.pythonhosted.org/packages/a8/ea/f863f6efa170e94a2fb2c31dba4a8aec5187b26750b43f3fd7180299fba5/pydantic_core-2.6.1-cp311-none-win_amd64.whl.metadata\n",
            "  Downloading pydantic_core-2.6.1-cp311-none-win_amd64.whl.metadata (6.6 kB)\n",
            "Requirement already satisfied: typing-extensions>=4.6.1 in c:\\users\\hp\\mom_generator\\personaltesting\\.venv\\lib\\site-packages (from pydantic!=1.8,!=1.8.1,<3.0.0,>=1.7.4->spacy) (4.7.1)\n",
            "Requirement already satisfied: charset-normalizer<4,>=2 in c:\\users\\hp\\mom_generator\\personaltesting\\.venv\\lib\\site-packages (from requests<3.0.0,>=2.13.0->spacy) (3.2.0)\n",
            "Requirement already satisfied: idna<4,>=2.5 in c:\\users\\hp\\mom_generator\\personaltesting\\.venv\\lib\\site-packages (from requests<3.0.0,>=2.13.0->spacy) (3.4)\n",
            "Requirement already satisfied: urllib3<3,>=1.21.1 in c:\\users\\hp\\mom_generator\\personaltesting\\.venv\\lib\\site-packages (from requests<3.0.0,>=2.13.0->spacy) (2.0.4)\n",
            "Requirement already satisfied: certifi>=2017.4.17 in c:\\users\\hp\\mom_generator\\personaltesting\\.venv\\lib\\site-packages (from requests<3.0.0,>=2.13.0->spacy) (2023.7.22)\n",
            "Collecting blis<0.8.0,>=0.7.8 (from thinc<8.2.0,>=8.1.8->spacy)\n",
            "  Obtaining dependency information for blis<0.8.0,>=0.7.8 from https://files.pythonhosted.org/packages/d3/1a/24c6b7d5445b99e24fe242921b50f8a3469d79a508b9d7831451f423e1db/blis-0.7.10-cp311-cp311-win_amd64.whl.metadata\n",
            "  Downloading blis-0.7.10-cp311-cp311-win_amd64.whl.metadata (7.6 kB)\n",
            "Collecting confection<1.0.0,>=0.0.1 (from thinc<8.2.0,>=8.1.8->spacy)\n",
            "  Obtaining dependency information for confection<1.0.0,>=0.0.1 from https://files.pythonhosted.org/packages/05/5e/1a56e81e3335ce18f6742539edd2f6ea98bbf477fefc9a4dc5c0694bace4/confection-0.1.1-py3-none-any.whl.metadata\n",
            "  Downloading confection-0.1.1-py3-none-any.whl.metadata (19 kB)\n",
            "Requirement already satisfied: colorama in c:\\users\\hp\\mom_generator\\personaltesting\\.venv\\lib\\site-packages (from tqdm<5.0.0,>=4.38.0->spacy) (0.4.6)\n",
            "Collecting click<9.0.0,>=7.1.1 (from typer<0.10.0,>=0.3.0->spacy)\n",
            "  Obtaining dependency information for click<9.0.0,>=7.1.1 from https://files.pythonhosted.org/packages/00/2e/d53fa4befbf2cfa713304affc7ca780ce4fc1fd8710527771b58311a3229/click-8.1.7-py3-none-any.whl.metadata\n",
            "  Downloading click-8.1.7-py3-none-any.whl.metadata (3.0 kB)\n",
            "Collecting MarkupSafe>=2.0 (from jinja2->spacy)\n",
            "  Obtaining dependency information for MarkupSafe>=2.0 from https://files.pythonhosted.org/packages/be/bb/08b85bc194034efbf572e70c3951549c8eca0ada25363afc154386b5390a/MarkupSafe-2.1.3-cp311-cp311-win_amd64.whl.metadata\n",
            "  Downloading MarkupSafe-2.1.3-cp311-cp311-win_amd64.whl.metadata (3.1 kB)\n",
            "Downloading spacy-3.6.1-cp311-cp311-win_amd64.whl (12.0 MB)\n",
            "   ---------------------------------------- 0.0/12.0 MB ? eta -:--:--\n",
            "   - -------------------------------------- 0.4/12.0 MB 11.2 MB/s eta 0:00:02\n",
            "   -- ------------------------------------- 0.7/12.0 MB 8.4 MB/s eta 0:00:02\n",
            "   --- ------------------------------------ 1.0/12.0 MB 7.6 MB/s eta 0:00:02\n",
            "   --- ------------------------------------ 1.1/12.0 MB 6.5 MB/s eta 0:00:02\n",
            "   ---- ----------------------------------- 1.3/12.0 MB 6.0 MB/s eta 0:00:02\n",
            "   ----- ---------------------------------- 1.5/12.0 MB 5.3 MB/s eta 0:00:02\n",
            "   ----- ---------------------------------- 1.7/12.0 MB 5.3 MB/s eta 0:00:02\n",
            "   ------ --------------------------------- 1.9/12.0 MB 5.1 MB/s eta 0:00:02\n",
            "   ------ --------------------------------- 2.0/12.0 MB 5.0 MB/s eta 0:00:02\n",
            "   ------- -------------------------------- 2.2/12.0 MB 4.9 MB/s eta 0:00:02\n",
            "   -------- ------------------------------- 2.4/12.0 MB 4.8 MB/s eta 0:00:03\n",
            "   -------- ------------------------------- 2.6/12.0 MB 4.7 MB/s eta 0:00:02\n",
            "   --------- ------------------------------ 2.8/12.0 MB 4.6 MB/s eta 0:00:02\n",
            "   --------- ------------------------------ 2.9/12.0 MB 4.6 MB/s eta 0:00:02\n",
            "   ---------- ----------------------------- 3.1/12.0 MB 4.6 MB/s eta 0:00:02\n",
            "   ----------- ---------------------------- 3.3/12.0 MB 4.5 MB/s eta 0:00:02\n",
            "   ----------- ---------------------------- 3.5/12.0 MB 4.4 MB/s eta 0:00:02\n",
            "   ------------ --------------------------- 3.6/12.0 MB 4.4 MB/s eta 0:00:02\n",
            "   ------------ --------------------------- 3.9/12.0 MB 4.4 MB/s eta 0:00:02\n",
            "   ------------- -------------------------- 4.0/12.0 MB 4.4 MB/s eta 0:00:02\n",
            "   -------------- ------------------------- 4.2/12.0 MB 4.3 MB/s eta 0:00:02\n",
            "   -------------- ------------------------- 4.4/12.0 MB 4.3 MB/s eta 0:00:02\n",
            "   --------------- ------------------------ 4.6/12.0 MB 4.3 MB/s eta 0:00:02\n",
            "   --------------- ------------------------ 4.8/12.0 MB 4.3 MB/s eta 0:00:02\n",
            "   ---------------- ----------------------- 4.9/12.0 MB 4.2 MB/s eta 0:00:02\n",
            "   ----------------- ---------------------- 5.1/12.0 MB 4.2 MB/s eta 0:00:02\n",
            "   ----------------- ---------------------- 5.3/12.0 MB 4.2 MB/s eta 0:00:02\n",
            "   ------------------ --------------------- 5.5/12.0 MB 4.2 MB/s eta 0:00:02\n",
            "   ------------------ --------------------- 5.5/12.0 MB 4.1 MB/s eta 0:00:02\n",
            "   ------------------- -------------------- 5.8/12.0 MB 4.2 MB/s eta 0:00:02\n",
            "   -------------------- ------------------- 6.0/12.0 MB 4.2 MB/s eta 0:00:02\n",
            "   -------------------- ------------------- 6.2/12.0 MB 4.2 MB/s eta 0:00:02\n",
            "   --------------------- ------------------ 6.4/12.0 MB 4.2 MB/s eta 0:00:02\n",
            "   --------------------- ------------------ 6.6/12.0 MB 4.2 MB/s eta 0:00:02\n",
            "   ---------------------- ----------------- 6.8/12.0 MB 4.2 MB/s eta 0:00:02\n",
            "   ----------------------- ---------------- 6.9/12.0 MB 4.1 MB/s eta 0:00:02\n",
            "   ----------------------- ---------------- 7.1/12.0 MB 4.1 MB/s eta 0:00:02\n",
            "   ------------------------ --------------- 7.3/12.0 MB 4.1 MB/s eta 0:00:02\n",
            "   ------------------------ --------------- 7.5/12.0 MB 4.1 MB/s eta 0:00:02\n",
            "   ------------------------- -------------- 7.7/12.0 MB 4.1 MB/s eta 0:00:02\n",
            "   -------------------------- ------------- 7.9/12.0 MB 4.1 MB/s eta 0:00:02\n",
            "   -------------------------- ------------- 8.0/12.0 MB 4.1 MB/s eta 0:00:01\n",
            "   --------------------------- ------------ 8.2/12.0 MB 4.1 MB/s eta 0:00:01\n",
            "   ---------------------------- ----------- 8.4/12.0 MB 4.1 MB/s eta 0:00:01\n",
            "   ---------------------------- ----------- 8.6/12.0 MB 4.1 MB/s eta 0:00:01\n",
            "   ----------------------------- ---------- 8.8/12.0 MB 4.1 MB/s eta 0:00:01\n",
            "   ----------------------------- ---------- 8.9/12.0 MB 4.1 MB/s eta 0:00:01\n",
            "   ------------------------------ --------- 9.1/12.0 MB 4.1 MB/s eta 0:00:01\n",
            "   ------------------------------- -------- 9.3/12.0 MB 4.1 MB/s eta 0:00:01\n",
            "   ------------------------------- -------- 9.5/12.0 MB 4.1 MB/s eta 0:00:01\n",
            "   -------------------------------- ------- 9.7/12.0 MB 4.1 MB/s eta 0:00:01\n",
            "   -------------------------------- ------- 9.9/12.0 MB 4.1 MB/s eta 0:00:01\n",
            "   --------------------------------- ------ 10.0/12.0 MB 4.1 MB/s eta 0:00:01\n",
            "   ---------------------------------- ----- 10.2/12.0 MB 4.1 MB/s eta 0:00:01\n",
            "   ---------------------------------- ----- 10.4/12.0 MB 4.0 MB/s eta 0:00:01\n",
            "   ----------------------------------- ---- 10.6/12.0 MB 4.0 MB/s eta 0:00:01\n",
            "   ----------------------------------- ---- 10.8/12.0 MB 3.9 MB/s eta 0:00:01\n",
            "   ------------------------------------ --- 11.0/12.0 MB 3.9 MB/s eta 0:00:01\n",
            "   ------------------------------------- -- 11.1/12.0 MB 3.9 MB/s eta 0:00:01\n",
            "   ------------------------------------- -- 11.3/12.0 MB 3.9 MB/s eta 0:00:01\n",
            "   -------------------------------------- - 11.5/12.0 MB 3.9 MB/s eta 0:00:01\n",
            "   -------------------------------------- - 11.7/12.0 MB 3.9 MB/s eta 0:00:01\n",
            "   ---------------------------------------  11.9/12.0 MB 3.9 MB/s eta 0:00:01\n",
            "   ---------------------------------------  12.0/12.0 MB 3.9 MB/s eta 0:00:01\n",
            "   ---------------------------------------- 12.0/12.0 MB 3.8 MB/s eta 0:00:00\n",
            "Downloading catalogue-2.0.9-py3-none-any.whl (17 kB)\n",
            "Downloading pathy-0.10.2-py3-none-any.whl (48 kB)\n",
            "   ---------------------------------------- 0.0/48.9 kB ? eta -:--:--\n",
            "   ---------------------------------------- 48.9/48.9 kB 2.4 MB/s eta 0:00:00\n",
            "Downloading pydantic-2.2.1-py3-none-any.whl (373 kB)\n",
            "   ---------------------------------------- 0.0/373.4 kB ? eta -:--:--\n",
            "   ------------------------------------ --- 337.9/373.4 kB 7.0 MB/s eta 0:00:01\n",
            "   ---------------------------------------- 373.4/373.4 kB 5.9 MB/s eta 0:00:00\n",
            "Downloading pydantic_core-2.6.1-cp311-none-win_amd64.whl (1.7 MB)\n",
            "   ---------------------------------------- 0.0/1.7 MB ? eta -:--:--\n",
            "   ------ --------------------------------- 0.3/1.7 MB 5.9 MB/s eta 0:00:01\n",
            "   -------------- ------------------------- 0.6/1.7 MB 7.7 MB/s eta 0:00:01\n",
            "   --------------------- ------------------ 0.9/1.7 MB 6.5 MB/s eta 0:00:01\n",
            "   ------------------------- -------------- 1.1/1.7 MB 5.9 MB/s eta 0:00:01\n",
            "   ----------------------------- ---------- 1.3/1.7 MB 5.4 MB/s eta 0:00:01\n",
            "   --------------------------------- ------ 1.5/1.7 MB 5.2 MB/s eta 0:00:01\n",
            "   ------------------------------------- -- 1.6/1.7 MB 5.0 MB/s eta 0:00:01\n",
            "   ---------------------------------------- 1.7/1.7 MB 4.8 MB/s eta 0:00:00\n",
            "Downloading srsly-2.4.7-cp311-cp311-win_amd64.whl (479 kB)\n",
            "   ---------------------------------------- 0.0/479.5 kB ? eta -:--:--\n",
            "   --------------------------- ------------ 327.7/479.5 kB 6.8 MB/s eta 0:00:01\n",
            "   ---------------------------------------- 479.5/479.5 kB 5.0 MB/s eta 0:00:00\n",
            "Downloading thinc-8.1.12-cp311-cp311-win_amd64.whl (1.5 MB)\n",
            "   ---------------------------------------- 0.0/1.5 MB ? eta -:--:--\n",
            "   ------- -------------------------------- 0.3/1.5 MB 8.3 MB/s eta 0:00:01\n",
            "   ------------ --------------------------- 0.5/1.5 MB 5.8 MB/s eta 0:00:01\n",
            "   ----------------- ---------------------- 0.6/1.5 MB 5.1 MB/s eta 0:00:01\n",
            "   ---------------------- ----------------- 0.8/1.5 MB 4.8 MB/s eta 0:00:01\n",
            "   ---------------------------- ----------- 1.0/1.5 MB 4.7 MB/s eta 0:00:01\n",
            "   -------------------------------- ------- 1.2/1.5 MB 4.5 MB/s eta 0:00:01\n",
            "   ------------------------------------- -- 1.4/1.5 MB 4.4 MB/s eta 0:00:01\n",
            "   ---------------------------------------- 1.5/1.5 MB 4.1 MB/s eta 0:00:00\n",
            "Downloading wasabi-1.1.2-py3-none-any.whl (27 kB)\n",
            "Downloading annotated_types-0.5.0-py3-none-any.whl (11 kB)\n",
            "Downloading blis-0.7.10-cp311-cp311-win_amd64.whl (7.4 MB)\n",
            "   ---------------------------------------- 0.0/7.4 MB ? eta -:--:--\n",
            "   - -------------------------------------- 0.3/7.4 MB 8.3 MB/s eta 0:00:01\n",
            "   --- ------------------------------------ 0.6/7.4 MB 7.4 MB/s eta 0:00:01\n",
            "   ---- ----------------------------------- 0.9/7.4 MB 7.0 MB/s eta 0:00:01\n",
            "   ----- ---------------------------------- 1.1/7.4 MB 6.2 MB/s eta 0:00:02\n",
            "   ------ --------------------------------- 1.3/7.4 MB 5.7 MB/s eta 0:00:02\n",
            "   ------- -------------------------------- 1.4/7.4 MB 5.4 MB/s eta 0:00:02\n",
            "   -------- ------------------------------- 1.6/7.4 MB 5.1 MB/s eta 0:00:02\n",
            "   --------- ------------------------------ 1.8/7.4 MB 5.0 MB/s eta 0:00:02\n",
            "   ---------- ----------------------------- 2.0/7.4 MB 4.9 MB/s eta 0:00:02\n",
            "   ----------- ---------------------------- 2.2/7.4 MB 4.8 MB/s eta 0:00:02\n",
            "   ------------ --------------------------- 2.4/7.4 MB 4.7 MB/s eta 0:00:02\n",
            "   ------------- -------------------------- 2.5/7.4 MB 4.6 MB/s eta 0:00:02\n",
            "   -------------- ------------------------- 2.7/7.4 MB 4.6 MB/s eta 0:00:02\n",
            "   --------------- ------------------------ 2.9/7.4 MB 4.5 MB/s eta 0:00:01\n",
            "   ---------------- ----------------------- 3.1/7.4 MB 4.5 MB/s eta 0:00:01\n",
            "   ----------------- ---------------------- 3.3/7.4 MB 4.4 MB/s eta 0:00:01\n",
            "   ------------------ --------------------- 3.5/7.4 MB 4.4 MB/s eta 0:00:01\n",
            "   ------------------- -------------------- 3.7/7.4 MB 4.4 MB/s eta 0:00:01\n",
            "   -------------------- ------------------- 3.9/7.4 MB 4.3 MB/s eta 0:00:01\n",
            "   --------------------- ------------------ 4.0/7.4 MB 4.3 MB/s eta 0:00:01\n",
            "   ---------------------- ----------------- 4.2/7.4 MB 4.3 MB/s eta 0:00:01\n",
            "   ----------------------- ---------------- 4.4/7.4 MB 4.3 MB/s eta 0:00:01\n",
            "   ------------------------ --------------- 4.6/7.4 MB 4.3 MB/s eta 0:00:01\n",
            "   ------------------------- -------------- 4.8/7.4 MB 4.2 MB/s eta 0:00:01\n",
            "   -------------------------- ------------- 4.9/7.4 MB 4.3 MB/s eta 0:00:01\n",
            "   --------------------------- ------------ 5.1/7.4 MB 4.2 MB/s eta 0:00:01\n",
            "   ---------------------------- ----------- 5.3/7.4 MB 4.2 MB/s eta 0:00:01\n",
            "   ----------------------------- ---------- 5.5/7.4 MB 4.2 MB/s eta 0:00:01\n",
            "   ------------------------------ --------- 5.7/7.4 MB 4.2 MB/s eta 0:00:01\n",
            "   ------------------------------- -------- 5.8/7.4 MB 4.2 MB/s eta 0:00:01\n",
            "   -------------------------------- ------- 6.0/7.4 MB 4.2 MB/s eta 0:00:01\n",
            "   --------------------------------- ------ 6.2/7.4 MB 4.2 MB/s eta 0:00:01\n",
            "   ---------------------------------- ----- 6.4/7.4 MB 4.2 MB/s eta 0:00:01\n",
            "   ----------------------------------- ---- 6.6/7.4 MB 4.2 MB/s eta 0:00:01\n",
            "   ------------------------------------ --- 6.7/7.4 MB 4.2 MB/s eta 0:00:01\n",
            "   ------------------------------------ --- 6.7/7.4 MB 4.2 MB/s eta 0:00:01\n",
            "   ------------------------------------- -- 7.0/7.4 MB 4.1 MB/s eta 0:00:01\n",
            "   ---------------------------------------  7.2/7.4 MB 4.1 MB/s eta 0:00:01\n",
            "   ---------------------------------------  7.4/7.4 MB 4.1 MB/s eta 0:00:01\n",
            "   ---------------------------------------- 7.4/7.4 MB 4.0 MB/s eta 0:00:00\n",
            "Downloading click-8.1.7-py3-none-any.whl (97 kB)\n",
            "   ---------------------------------------- 0.0/97.9 kB ? eta -:--:--\n",
            "   ---------------------------------------- 97.9/97.9 kB 2.8 MB/s eta 0:00:00\n",
            "Downloading confection-0.1.1-py3-none-any.whl (34 kB)\n",
            "Downloading MarkupSafe-2.1.3-cp311-cp311-win_amd64.whl (17 kB)\n",
            "Installing collected packages: cymem, wasabi, spacy-loggers, spacy-legacy, smart-open, pydantic-core, murmurhash, MarkupSafe, langcodes, click, catalogue, blis, annotated-types, typer, srsly, pydantic, preshed, jinja2, pathy, confection, thinc, spacy\n",
            "Successfully installed MarkupSafe-2.1.3 annotated-types-0.5.0 blis-0.7.10 catalogue-2.0.9 click-8.1.7 confection-0.1.1 cymem-2.0.7 jinja2-3.1.2 langcodes-3.3.0 murmurhash-1.0.9 pathy-0.10.2 preshed-3.0.8 pydantic-2.2.1 pydantic-core-2.6.1 smart-open-6.3.0 spacy-3.6.1 spacy-legacy-3.0.12 spacy-loggers-1.0.4 srsly-2.4.7 thinc-8.1.12 typer-0.9.0 wasabi-1.1.2\n"
          ]
        }
      ],
      "source": [
        "! pip install -U spacy"
      ]
    },
    {
      "cell_type": "code",
      "execution_count": 1,
      "metadata": {
        "colab": {
          "base_uri": "https://localhost:8080/"
        },
        "id": "Rf81WFkKI-Ip",
        "outputId": "dbc0b7e0-8f35-49cd-cb9e-7039eef23e0a"
      },
      "outputs": [
        {
          "name": "stdout",
          "output_type": "stream",
          "text": [
            "Collecting en-core-web-sm==3.6.0\n",
            "  Downloading https://github.com/explosion/spacy-models/releases/download/en_core_web_sm-3.6.0/en_core_web_sm-3.6.0-py3-none-any.whl (12.8 MB)\n",
            "     ---------------------------------------- 0.0/12.8 MB ? eta -:--:--\n",
            "     --------------------------------------- 0.0/12.8 MB 653.6 kB/s eta 0:00:20\n",
            "     ---------------------------------------- 0.1/12.8 MB 1.0 MB/s eta 0:00:13\n",
            "     - -------------------------------------- 0.3/12.8 MB 2.2 MB/s eta 0:00:06\n",
            "     - -------------------------------------- 0.6/12.8 MB 2.7 MB/s eta 0:00:05\n",
            "     -- ------------------------------------- 0.8/12.8 MB 3.1 MB/s eta 0:00:04\n",
            "     --- ------------------------------------ 1.1/12.8 MB 3.4 MB/s eta 0:00:04\n",
            "     --- ------------------------------------ 1.3/12.8 MB 3.7 MB/s eta 0:00:04\n",
            "     ---- ----------------------------------- 1.5/12.8 MB 3.9 MB/s eta 0:00:03\n",
            "     ----- ---------------------------------- 1.8/12.8 MB 4.0 MB/s eta 0:00:03\n",
            "     ------ --------------------------------- 1.9/12.8 MB 4.1 MB/s eta 0:00:03\n",
            "     ------ --------------------------------- 2.2/12.8 MB 4.2 MB/s eta 0:00:03\n",
            "     ------- -------------------------------- 2.4/12.8 MB 4.2 MB/s eta 0:00:03\n",
            "     -------- ------------------------------- 2.6/12.8 MB 4.4 MB/s eta 0:00:03\n",
            "     -------- ------------------------------- 2.9/12.8 MB 4.4 MB/s eta 0:00:03\n",
            "     --------- ------------------------------ 3.1/12.8 MB 4.5 MB/s eta 0:00:03\n",
            "     ---------- ----------------------------- 3.3/12.8 MB 4.5 MB/s eta 0:00:03\n",
            "     ----------- ---------------------------- 3.6/12.8 MB 4.6 MB/s eta 0:00:03\n",
            "     ------------ --------------------------- 3.9/12.8 MB 4.6 MB/s eta 0:00:02\n",
            "     ------------ --------------------------- 4.1/12.8 MB 4.7 MB/s eta 0:00:02\n",
            "     ------------- -------------------------- 4.3/12.8 MB 4.7 MB/s eta 0:00:02\n",
            "     -------------- ------------------------- 4.5/12.8 MB 4.7 MB/s eta 0:00:02\n",
            "     -------------- ------------------------- 4.7/12.8 MB 4.7 MB/s eta 0:00:02\n",
            "     --------------- ------------------------ 5.0/12.8 MB 4.7 MB/s eta 0:00:02\n",
            "     ---------------- ----------------------- 5.2/12.8 MB 4.8 MB/s eta 0:00:02\n",
            "     ----------------- ---------------------- 5.4/12.8 MB 4.8 MB/s eta 0:00:02\n",
            "     ----------------- ---------------------- 5.7/12.8 MB 4.8 MB/s eta 0:00:02\n",
            "     ------------------ --------------------- 5.9/12.8 MB 4.8 MB/s eta 0:00:02\n",
            "     ------------------- -------------------- 6.2/12.8 MB 4.8 MB/s eta 0:00:02\n",
            "     -------------------- ------------------- 6.5/12.8 MB 4.8 MB/s eta 0:00:02\n",
            "     -------------------- ------------------- 6.7/12.8 MB 4.9 MB/s eta 0:00:02\n",
            "     --------------------- ------------------ 7.0/12.8 MB 4.9 MB/s eta 0:00:02\n",
            "     ---------------------- ----------------- 7.2/12.8 MB 4.9 MB/s eta 0:00:02\n",
            "     ----------------------- ---------------- 7.5/12.8 MB 4.9 MB/s eta 0:00:02\n",
            "     ------------------------ --------------- 7.8/12.8 MB 5.0 MB/s eta 0:00:02\n",
            "     ------------------------- -------------- 8.1/12.8 MB 4.9 MB/s eta 0:00:01\n",
            "     -------------------------- ------------- 8.4/12.8 MB 4.9 MB/s eta 0:00:01\n",
            "     --------------------------- ------------ 8.7/12.8 MB 4.9 MB/s eta 0:00:01\n",
            "     --------------------------- ------------ 8.9/12.8 MB 5.0 MB/s eta 0:00:01\n",
            "     ---------------------------- ----------- 9.2/12.8 MB 5.0 MB/s eta 0:00:01\n",
            "     ----------------------------- ---------- 9.5/12.8 MB 5.0 MB/s eta 0:00:01\n",
            "     ------------------------------ --------- 9.8/12.8 MB 5.0 MB/s eta 0:00:01\n",
            "     ------------------------------- -------- 10.1/12.8 MB 5.0 MB/s eta 0:00:01\n",
            "     -------------------------------- ------- 10.3/12.8 MB 5.2 MB/s eta 0:00:01\n",
            "     -------------------------------- ------- 10.5/12.8 MB 5.3 MB/s eta 0:00:01\n",
            "     --------------------------------- ------ 10.7/12.8 MB 5.2 MB/s eta 0:00:01\n",
            "     ---------------------------------- ----- 11.2/12.8 MB 5.2 MB/s eta 0:00:01\n",
            "     ----------------------------------- ---- 11.4/12.8 MB 5.2 MB/s eta 0:00:01\n",
            "     ------------------------------------ --- 11.6/12.8 MB 5.3 MB/s eta 0:00:01\n",
            "     ------------------------------------- -- 11.8/12.8 MB 5.2 MB/s eta 0:00:01\n",
            "     ------------------------------------- -- 12.1/12.8 MB 5.3 MB/s eta 0:00:01\n",
            "     -------------------------------------- - 12.2/12.8 MB 5.2 MB/s eta 0:00:01\n",
            "     ---------------------------------------  12.6/12.8 MB 5.2 MB/s eta 0:00:01\n",
            "     ---------------------------------------  12.8/12.8 MB 5.2 MB/s eta 0:00:01\n",
            "     ---------------------------------------  12.8/12.8 MB 5.2 MB/s eta 0:00:01\n",
            "     ---------------------------------------- 12.8/12.8 MB 5.0 MB/s eta 0:00:00\n",
            "Requirement already satisfied: spacy<3.7.0,>=3.6.0 in c:\\users\\hp\\mom_generator\\personaltesting\\.venv\\lib\\site-packages (from en-core-web-sm==3.6.0) (3.6.1)\n",
            "Requirement already satisfied: spacy-legacy<3.1.0,>=3.0.11 in c:\\users\\hp\\mom_generator\\personaltesting\\.venv\\lib\\site-packages (from spacy<3.7.0,>=3.6.0->en-core-web-sm==3.6.0) (3.0.12)\n",
            "Requirement already satisfied: spacy-loggers<2.0.0,>=1.0.0 in c:\\users\\hp\\mom_generator\\personaltesting\\.venv\\lib\\site-packages (from spacy<3.7.0,>=3.6.0->en-core-web-sm==3.6.0) (1.0.4)\n",
            "Requirement already satisfied: murmurhash<1.1.0,>=0.28.0 in c:\\users\\hp\\mom_generator\\personaltesting\\.venv\\lib\\site-packages (from spacy<3.7.0,>=3.6.0->en-core-web-sm==3.6.0) (1.0.9)\n",
            "Requirement already satisfied: cymem<2.1.0,>=2.0.2 in c:\\users\\hp\\mom_generator\\personaltesting\\.venv\\lib\\site-packages (from spacy<3.7.0,>=3.6.0->en-core-web-sm==3.6.0) (2.0.7)\n",
            "Requirement already satisfied: preshed<3.1.0,>=3.0.2 in c:\\users\\hp\\mom_generator\\personaltesting\\.venv\\lib\\site-packages (from spacy<3.7.0,>=3.6.0->en-core-web-sm==3.6.0) (3.0.8)\n",
            "Requirement already satisfied: thinc<8.2.0,>=8.1.8 in c:\\users\\hp\\mom_generator\\personaltesting\\.venv\\lib\\site-packages (from spacy<3.7.0,>=3.6.0->en-core-web-sm==3.6.0) (8.1.12)\n",
            "Requirement already satisfied: wasabi<1.2.0,>=0.9.1 in c:\\users\\hp\\mom_generator\\personaltesting\\.venv\\lib\\site-packages (from spacy<3.7.0,>=3.6.0->en-core-web-sm==3.6.0) (1.1.2)\n",
            "Requirement already satisfied: srsly<3.0.0,>=2.4.3 in c:\\users\\hp\\mom_generator\\personaltesting\\.venv\\lib\\site-packages (from spacy<3.7.0,>=3.6.0->en-core-web-sm==3.6.0) (2.4.7)\n",
            "Requirement already satisfied: catalogue<2.1.0,>=2.0.6 in c:\\users\\hp\\mom_generator\\personaltesting\\.venv\\lib\\site-packages (from spacy<3.7.0,>=3.6.0->en-core-web-sm==3.6.0) (2.0.9)\n",
            "Requirement already satisfied: typer<0.10.0,>=0.3.0 in c:\\users\\hp\\mom_generator\\personaltesting\\.venv\\lib\\site-packages (from spacy<3.7.0,>=3.6.0->en-core-web-sm==3.6.0) (0.9.0)\n",
            "Requirement already satisfied: pathy>=0.10.0 in c:\\users\\hp\\mom_generator\\personaltesting\\.venv\\lib\\site-packages (from spacy<3.7.0,>=3.6.0->en-core-web-sm==3.6.0) (0.10.2)\n",
            "Requirement already satisfied: smart-open<7.0.0,>=5.2.1 in c:\\users\\hp\\mom_generator\\personaltesting\\.venv\\lib\\site-packages (from spacy<3.7.0,>=3.6.0->en-core-web-sm==3.6.0) (6.3.0)\n",
            "Requirement already satisfied: tqdm<5.0.0,>=4.38.0 in c:\\users\\hp\\mom_generator\\personaltesting\\.venv\\lib\\site-packages (from spacy<3.7.0,>=3.6.0->en-core-web-sm==3.6.0) (4.66.1)\n",
            "Requirement already satisfied: numpy>=1.15.0 in c:\\users\\hp\\mom_generator\\personaltesting\\.venv\\lib\\site-packages (from spacy<3.7.0,>=3.6.0->en-core-web-sm==3.6.0) (1.25.2)\n",
            "Requirement already satisfied: requests<3.0.0,>=2.13.0 in c:\\users\\hp\\mom_generator\\personaltesting\\.venv\\lib\\site-packages (from spacy<3.7.0,>=3.6.0->en-core-web-sm==3.6.0) (2.31.0)\n",
            "Requirement already satisfied: pydantic!=1.8,!=1.8.1,<3.0.0,>=1.7.4 in c:\\users\\hp\\mom_generator\\personaltesting\\.venv\\lib\\site-packages (from spacy<3.7.0,>=3.6.0->en-core-web-sm==3.6.0) (2.2.1)\n",
            "Requirement already satisfied: jinja2 in c:\\users\\hp\\mom_generator\\personaltesting\\.venv\\lib\\site-packages (from spacy<3.7.0,>=3.6.0->en-core-web-sm==3.6.0) (3.1.2)\n",
            "Requirement already satisfied: setuptools in c:\\users\\hp\\mom_generator\\personaltesting\\.venv\\lib\\site-packages (from spacy<3.7.0,>=3.6.0->en-core-web-sm==3.6.0) (65.5.0)\n",
            "Requirement already satisfied: packaging>=20.0 in c:\\users\\hp\\mom_generator\\personaltesting\\.venv\\lib\\site-packages (from spacy<3.7.0,>=3.6.0->en-core-web-sm==3.6.0) (23.1)\n",
            "Requirement already satisfied: langcodes<4.0.0,>=3.2.0 in c:\\users\\hp\\mom_generator\\personaltesting\\.venv\\lib\\site-packages (from spacy<3.7.0,>=3.6.0->en-core-web-sm==3.6.0) (3.3.0)\n",
            "Requirement already satisfied: annotated-types>=0.4.0 in c:\\users\\hp\\mom_generator\\personaltesting\\.venv\\lib\\site-packages (from pydantic!=1.8,!=1.8.1,<3.0.0,>=1.7.4->spacy<3.7.0,>=3.6.0->en-core-web-sm==3.6.0) (0.5.0)\n",
            "Requirement already satisfied: pydantic-core==2.6.1 in c:\\users\\hp\\mom_generator\\personaltesting\\.venv\\lib\\site-packages (from pydantic!=1.8,!=1.8.1,<3.0.0,>=1.7.4->spacy<3.7.0,>=3.6.0->en-core-web-sm==3.6.0) (2.6.1)\n",
            "Requirement already satisfied: typing-extensions>=4.6.1 in c:\\users\\hp\\mom_generator\\personaltesting\\.venv\\lib\\site-packages (from pydantic!=1.8,!=1.8.1,<3.0.0,>=1.7.4->spacy<3.7.0,>=3.6.0->en-core-web-sm==3.6.0) (4.7.1)\n",
            "Requirement already satisfied: charset-normalizer<4,>=2 in c:\\users\\hp\\mom_generator\\personaltesting\\.venv\\lib\\site-packages (from requests<3.0.0,>=2.13.0->spacy<3.7.0,>=3.6.0->en-core-web-sm==3.6.0) (3.2.0)\n",
            "Requirement already satisfied: idna<4,>=2.5 in c:\\users\\hp\\mom_generator\\personaltesting\\.venv\\lib\\site-packages (from requests<3.0.0,>=2.13.0->spacy<3.7.0,>=3.6.0->en-core-web-sm==3.6.0) (3.4)\n",
            "Requirement already satisfied: urllib3<3,>=1.21.1 in c:\\users\\hp\\mom_generator\\personaltesting\\.venv\\lib\\site-packages (from requests<3.0.0,>=2.13.0->spacy<3.7.0,>=3.6.0->en-core-web-sm==3.6.0) (2.0.4)\n",
            "Requirement already satisfied: certifi>=2017.4.17 in c:\\users\\hp\\mom_generator\\personaltesting\\.venv\\lib\\site-packages (from requests<3.0.0,>=2.13.0->spacy<3.7.0,>=3.6.0->en-core-web-sm==3.6.0) (2023.7.22)\n",
            "Requirement already satisfied: blis<0.8.0,>=0.7.8 in c:\\users\\hp\\mom_generator\\personaltesting\\.venv\\lib\\site-packages (from thinc<8.2.0,>=8.1.8->spacy<3.7.0,>=3.6.0->en-core-web-sm==3.6.0) (0.7.10)\n",
            "Requirement already satisfied: confection<1.0.0,>=0.0.1 in c:\\users\\hp\\mom_generator\\personaltesting\\.venv\\lib\\site-packages (from thinc<8.2.0,>=8.1.8->spacy<3.7.0,>=3.6.0->en-core-web-sm==3.6.0) (0.1.1)\n",
            "Requirement already satisfied: colorama in c:\\users\\hp\\mom_generator\\personaltesting\\.venv\\lib\\site-packages (from tqdm<5.0.0,>=4.38.0->spacy<3.7.0,>=3.6.0->en-core-web-sm==3.6.0) (0.4.6)\n",
            "Requirement already satisfied: click<9.0.0,>=7.1.1 in c:\\users\\hp\\mom_generator\\personaltesting\\.venv\\lib\\site-packages (from typer<0.10.0,>=0.3.0->spacy<3.7.0,>=3.6.0->en-core-web-sm==3.6.0) (8.1.7)\n",
            "Requirement already satisfied: MarkupSafe>=2.0 in c:\\users\\hp\\mom_generator\\personaltesting\\.venv\\lib\\site-packages (from jinja2->spacy<3.7.0,>=3.6.0->en-core-web-sm==3.6.0) (2.1.3)\n",
            "Installing collected packages: en-core-web-sm\n",
            "Successfully installed en-core-web-sm-3.6.0\n",
            "\u001b[38;5;2m✔ Download and installation successful\u001b[0m\n",
            "You can now load the package via spacy.load('en_core_web_sm')\n"
          ]
        }
      ],
      "source": [
        "!python -m spacy download en_core_web_sm\n"
      ]
    },
    {
      "cell_type": "code",
      "execution_count": 2,
      "metadata": {
        "id": "EXK5bsMeIBNd"
      },
      "outputs": [],
      "source": [
        "import spacy\n",
        "from spacy.lang.en.stop_words import STOP_WORDS\n",
        "from string import punctuation\n",
        "from collections import Counter\n",
        "from heapq import nlargest"
      ]
    },
    {
      "cell_type": "code",
      "execution_count": 3,
      "metadata": {
        "id": "Tzcm8AsDIKpF"
      },
      "outputs": [],
      "source": [
        "nlp = spacy.load('en_core_web_sm')\n"
      ]
    },
    {
      "cell_type": "code",
      "execution_count": 4,
      "metadata": {
        "id": "WSpN9fTKIaMx"
      },
      "outputs": [],
      "source": [
        "#to get text from txt file\n",
        "file_path = 'power.txt'\n",
        "with open(file_path, 'r') as file:\n",
        "    doc = file.read()\n"
      ]
    },
    {
      "cell_type": "code",
      "execution_count": 5,
      "metadata": {
        "id": "yAV8-pZ0KmWW"
      },
      "outputs": [],
      "source": [
        "#passing string doc into nlp function\n",
        "doc = nlp(doc)"
      ]
    },
    {
      "cell_type": "code",
      "execution_count": 6,
      "metadata": {
        "colab": {
          "base_uri": "https://localhost:8080/"
        },
        "id": "76VoLWKwKuyU",
        "outputId": "dcb27fa7-cef1-406b-e678-becb06972cb4"
      },
      "outputs": [
        {
          "data": {
            "text/plain": [
              "48"
            ]
          },
          "execution_count": 6,
          "metadata": {},
          "output_type": "execute_result"
        }
      ],
      "source": [
        "# to find number of sentences\n",
        "len(list(doc.sents))"
      ]
    },
    {
      "cell_type": "code",
      "execution_count": 8,
      "metadata": {
        "id": "MyNg_DQNM7-H"
      },
      "outputs": [],
      "source": [
        "#filtering tokens\n",
        "keyword = []\n",
        "stopwords= list(STOP_WORDS)\n",
        "pos_tag=['PROPN','ADJ','NOUN','VERB']\n",
        "for token in doc:\n",
        "  if(token.text in stopwords or token.text in punctuation):\n",
        "    continue\n",
        "  if(token.pos_ in pos_tag):\n",
        "    keyword.append(token.text)"
      ]
    },
    {
      "cell_type": "code",
      "execution_count": 9,
      "metadata": {
        "colab": {
          "base_uri": "https://localhost:8080/"
        },
        "id": "WWT3exQiN85H",
        "outputId": "0461a1be-3ff3-477d-849c-7922adfa15da"
      },
      "outputs": [
        {
          "data": {
            "text/plain": [
              "[('text', 5), ('day', 5), ('thing', 3), ('time', 3), ('think', 3)]"
            ]
          },
          "execution_count": 9,
          "metadata": {},
          "output_type": "execute_result"
        }
      ],
      "source": [
        "#calculating frequency\n",
        "freq_word=Counter(keyword)\n",
        "freq_word.most_common(5)"
      ]
    },
    {
      "cell_type": "code",
      "execution_count": 10,
      "metadata": {
        "colab": {
          "base_uri": "https://localhost:8080/"
        },
        "id": "tSaPAHbuOzsh",
        "outputId": "bd5b6376-86aa-4e7e-b5c5-90bd41c450b5"
      },
      "outputs": [
        {
          "data": {
            "text/plain": [
              "[('text', 1.0), ('day', 1.0), ('thing', 0.6), ('time', 0.6), ('think', 0.6)]"
            ]
          },
          "execution_count": 10,
          "metadata": {},
          "output_type": "execute_result"
        }
      ],
      "source": [
        "#Normalisation\n",
        "max_freq=Counter(keyword).most_common(1)[0][1]\n",
        "for word in freq_word.keys():\n",
        "  freq_word[word] = (freq_word[word]/max_freq)\n",
        "freq_word.most_common(5)"
      ]
    },
    {
      "cell_type": "code",
      "execution_count": 11,
      "metadata": {
        "colab": {
          "base_uri": "https://localhost:8080/"
        },
        "id": "CxJE6cIOPj5z",
        "outputId": "65441874-1fd1-486d-e133-4d2a3f7d1c12"
      },
      "outputs": [
        {
          "data": {
            "text/plain": [
              "{Bro, have you heard of this thing called the Power of Manifestation?: 2.0,\n",
              " And can you elaborate a little bit on how you views the Power of Manifestation?: 1.6,\n",
              " When I came to Bombay for the first time, I remember that I used to go to audition: 2.0,\n",
              " and I thought that until I had no other audition, I...: 0.6000000000000001,\n",
              " I wouldn't see any beach.: 0.4,\n",
              " Like, I would cross the beach.: 0.6000000000000001,\n",
              " Bombay is like...: 0.4,\n",
              " It's right next to the ocean.: 0.2,\n",
              " I used to go to the same place, with auto.: 0.4,\n",
              " I would hide.: 0.2,\n",
              " \"}\n",
              " {'text': \" It was the power so strong.: 1.4,\n",
              " I never saw one week before.: 0.6000000000000001,\n",
              " And when I got my first contract in my hand as a radio presenter, then I went to Drew Beach and opened my arms and I was like, I've arrived.: 2.6000000000000005,\n",
              " I've conquered this world.: 0.4,\n",
              " So you know, you manifest your energy and you just think about a particular thing and you achieve it finally.: 2.2,\n",
              " And you think that you should do something for it.: 0.6,\n",
              " \"}\n",
              " {'text': \" I was suffering personally in my life and I was not talking to my parents: 2.1999999999999997,\n",
              " Nobody I was such a hustler when I was in early 20's He was a horse vision: 1.2,\n",
              " Yes I came to Mumbai to radio show, a TV series and MTV was also doing it: 1.5999999999999999,\n",
              " And I was in the car I was not in the car I got a driver only because I could sleep: 2.0,\n",
              " So I had to just sleep for 3 hours\"}\n",
              " {'text': \" But in the real, day of the day, day of the day, I sleep 3 hours a day and I have to work like a horse.: 8.799999999999999,\n",
              " I think right now it's time to enjoy our start.: 1.5999999999999999,\n",
              " I'll tell you, confidence comes from success.: 0.8,\n",
              " And you'll always question yourself when you're going through failures.: 0.8,\n",
              " The worst and the best part of your life are the failures.: 1.6,\n",
              " They are the best teachers.: 0.6000000000000001,\n",
              " Success is a very lovely teacher.: 0.6000000000000001,\n",
              " Failure is your friend, your philosopher and your guide.: 0.8,\n",
              " \"}\n",
              " {'text': \" It's better if you see failure early in your life.: 2.4,\n",
              " If you see failure after 50 years, you will be able to do it.: 0.8,\n",
              " So it's very difficult.: 0.2,\n",
              " So I'm glad after a first film I saw three unsuccessful films and that was a great learning curve.: 1.7999999999999998,\n",
              " I don't say that I'm very confident that my script sense is very good.: 0.8,\n",
              " The audience knows everything.: 0.8,\n",
              " All the audience knows everything more than that.: 0.8,\n",
              " And you cannot be overconfident.: 0.2,\n",
              " You have to be always very practical.: 0.4,\n",
              " It gives you that practical thing in your head.: 1.4000000000000001,\n",
              " \"}\n",
              " {'text': ' every Friday you have to motivate yourself.: 1.4,\n",
              " no partner motivates you.: 0.4,\n",
              " when I told my wife when she was a girlfriend I would be an actor she started laughing.: 1.6,\n",
              " she started laughing.: 0.8,\n",
              " I had to have braces at that time.: 0.8,\n",
              " I was preparing for my PA'}: 0.4}"
            ]
          },
          "execution_count": 11,
          "metadata": {},
          "output_type": "execute_result"
        }
      ],
      "source": [
        "# Weighing sentences\n",
        "sent_strength={}\n",
        "for sent in doc.sents:\n",
        "  for word in sent:\n",
        "    if word.text in freq_word.keys():\n",
        "      if sent in sent_strength.keys():\n",
        "        sent_strength[sent]+= freq_word[word.text]\n",
        "      else:\n",
        "        sent_strength[sent]= freq_word[word.text]\n",
        "sent_strength"
      ]
    },
    {
      "cell_type": "code",
      "execution_count": 12,
      "metadata": {
        "colab": {
          "base_uri": "https://localhost:8080/"
        },
        "id": "xPDKsoCNP0JP",
        "outputId": "7f4a48e9-b17f-478c-b725-609982e1ce8b"
      },
      "outputs": [
        {
          "data": {
            "text/plain": [
              "[So I had to just sleep for 3 hours\"}\n",
              " {'text': \" But in the real, day of the day, day of the day, I sleep 3 hours a day and I have to work like a horse.,\n",
              " And when I got my first contract in my hand as a radio presenter, then I went to Drew Beach and opened my arms and I was like, I've arrived.,\n",
              " \"}\n",
              " {'text': \" It's better if you see failure early in your life.,\n",
              " So you know, you manifest your energy and you just think about a particular thing and you achieve it finally.,\n",
              " \"}\n",
              " {'text': \" I was suffering personally in my life and I was not talking to my parents,\n",
              " Bro, have you heard of this thing called the Power of Manifestation?,\n",
              " When I came to Bombay for the first time, I remember that I used to go to audition,\n",
              " And I was in the car I was not in the car I got a driver only because I could sleep,\n",
              " So I'm glad after a first film I saw three unsuccessful films and that was a great learning curve.,\n",
              " And can you elaborate a little bit on how you views the Power of Manifestation?,\n",
              " The worst and the best part of your life are the failures.,\n",
              " when I told my wife when she was a girlfriend I would be an actor she started laughing.,\n",
              " Yes I came to Mumbai to radio show, a TV series and MTV was also doing it,\n",
              " I think right now it's time to enjoy our start.,\n",
              " It gives you that practical thing in your head.,\n",
              " \"}\n",
              " {'text': \" It was the power so strong.]"
            ]
          },
          "execution_count": 12,
          "metadata": {},
          "output_type": "execute_result"
        }
      ],
      "source": [
        "#number of sentences in the original text\n",
        "num_original_sentences = len(list(doc.sents))\n",
        "\n",
        "# summary (approximately half)\n",
        "num_summary_sentences = num_original_sentences // 3\n",
        "summarized_sentences = nlargest(num_summary_sentences,sent_strength,key=sent_strength.get)\n",
        "summarized_sentences"
      ]
    },
    {
      "cell_type": "code",
      "execution_count": 13,
      "metadata": {
        "colab": {
          "base_uri": "https://localhost:8080/",
          "height": 140
        },
        "id": "Wrbja4dcQ9WM",
        "outputId": "1a722f0c-7e66-42be-f9b2-5316c93d683e"
      },
      "outputs": [
        {
          "data": {
            "text/plain": [
              "'So I had to just sleep for 3 hours\"}\\n{\\'text\\': \" But in the real, day of the day, day of the day, I sleep 3 hours a day and I have to work like a horse. And when I got my first contract in my hand as a radio presenter, then I went to Drew Beach and opened my arms and I was like, I\\'ve arrived. \"}\\n{\\'text\\': \" It\\'s better if you see failure early in your life. So you know, you manifest your energy and you just think about a particular thing and you achieve it finally. \"}\\n{\\'text\\': \" I was suffering personally in my life and I was not talking to my parents Bro, have you heard of this thing called the Power of Manifestation? When I came to Bombay for the first time, I remember that I used to go to audition And I was in the car I was not in the car I got a driver only because I could sleep So I\\'m glad after a first film I saw three unsuccessful films and that was a great learning curve. And can you elaborate a little bit on how you views the Power of Manifestation? The worst and the best part of your life are the failures. when I told my wife when she was a girlfriend I would be an actor she started laughing. Yes I came to Mumbai to radio show, a TV series and MTV was also doing it I think right now it\\'s time to enjoy our start. It gives you that practical thing in your head. \"}\\n{\\'text\\': \" It was the power so strong.'"
            ]
          },
          "execution_count": 13,
          "metadata": {},
          "output_type": "execute_result"
        }
      ],
      "source": [
        "final_sentences = [w.text for w in summarized_sentences]\n",
        "summary = ' '.join(final_sentences)\n",
        "summary"
      ]
    },
    {
      "cell_type": "code",
      "execution_count": 14,
      "metadata": {
        "colab": {
          "base_uri": "https://localhost:8080/"
        },
        "id": "x9sQLuikSITn",
        "outputId": "f2bdbb00-9d5b-4047-cb80-e6374909cef7"
      },
      "outputs": [
        {
          "name": "stdout",
          "output_type": "stream",
          "text": [
            "Summary:\n",
            "• So I had to just sleep for 3 hours\"}\n",
            "{'text': \" But in the real, day of the day, day of the day, I sleep 3 hours a day and I have to work like a horse.\n",
            "• And when I got my first contract in my hand as a radio presenter, then I went to Drew Beach and opened my arms and I was like, I've arrived.\n",
            "• \"}\n",
            "{'text': \" It's better if you see failure early in your life.\n",
            "• So you know, you manifest your energy and you just think about a particular thing and you achieve it finally.\n",
            "• \"}\n",
            "{'text': \" I was suffering personally in my life and I was not talking to my parents\n",
            "• Bro, have you heard of this thing called the Power of Manifestation?\n",
            "• When I came to Bombay for the first time, I remember that I used to go to audition\n",
            "• And I was in the car I was not in the car I got a driver only because I could sleep\n",
            "• So I'm glad after a first film I saw three unsuccessful films and that was a great learning curve.\n",
            "• And can you elaborate a little bit on how you views the Power of Manifestation?\n",
            "• The worst and the best part of your life are the failures.\n",
            "• when I told my wife when she was a girlfriend I would be an actor she started laughing.\n",
            "• Yes I came to Mumbai to radio show, a TV series and MTV was also doing it\n",
            "• I think right now it's time to enjoy our start.\n",
            "• It gives you that practical thing in your head.\n",
            "• \"}\n",
            "{'text': \" It was the power so strong.\n"
          ]
        }
      ],
      "source": [
        "# Format summary as bullet points\n",
        "summary_bullets = [\"• \" + sentence for sentence in final_sentences]\n",
        "formatted_summary = '\\n'.join(summary_bullets)\n",
        "print(\"Summary:\")\n",
        "print(formatted_summary)"
      ]
    }
  ],
  "metadata": {
    "colab": {
      "provenance": []
    },
    "kernelspec": {
      "display_name": "Python 3",
      "name": "python3"
    },
    "language_info": {
      "codemirror_mode": {
        "name": "ipython",
        "version": 3
      },
      "file_extension": ".py",
      "mimetype": "text/x-python",
      "name": "python",
      "nbconvert_exporter": "python",
      "pygments_lexer": "ipython3",
      "version": "3.11.1"
    }
  },
  "nbformat": 4,
  "nbformat_minor": 0
}
